{
 "cells": [
  {
   "cell_type": "markdown",
   "metadata": {},
   "source": [
    "### PLEASE comment/document what each function is doing in your own words to demonstrate your understanding. Of course, push it up to your GitHub on completion."
   ]
  },
  {
   "cell_type": "code",
   "execution_count": 10,
   "metadata": {},
   "outputs": [],
   "source": [
    "#import relevant packages\n",
    "import pandas as pd\n",
    "import numpy as np\n",
    "from sklearn.tree import DecisionTreeClassifier\n",
    "#from sklearn.cross_validation import train_test_split\n",
    "from sklearn.model_selection import train_test_split\n",
    "# import make_hastie_10_2:\n",
    "# Generates data for binary classification used in Hastie et al. 2009, Example 10.2.\n",
    "from sklearn.datasets import make_hastie_10_2\n",
    "import matplotlib.pyplot as plt\n"
   ]
  },
  {
   "cell_type": "code",
   "execution_count": 4,
   "metadata": {
    "collapsed": true
   },
   "outputs": [],
   "source": [
    "\"\"\" HELPER FUNCTION: GET ERROR RATE =========================================\"\"\"\n",
    "def get_error_rate(pred, Y):\n",
    "    '''calculates the missclassification/error rate by comparing predicted \n",
    "    values (pred) with true (Y) values'''\n",
    "    return sum(pred != Y) / float(len(Y))\n",
    "\n",
    "\"\"\" HELPER FUNCTION: PRINT ERROR RATE =======================================\"\"\"\n",
    "def print_error_rate(err):\n",
    "    '''prints the error rate (err) in a formatted way  '''\n",
    "    print ('Error rate: Training: %.4f - Test: %.4f' % err)\n",
    "\n",
    "\"\"\" HELPER FUNCTION: GENERIC CLASSIFIER =====================================\"\"\"\n",
    "# input training and test data and model\n",
    "def generic_clf(Y_train, X_train, Y_test, X_test, clf):\n",
    "    ''' calculates predictions with a given model and calls function to \n",
    "    calculate error rate'''\n",
    "    # model fit\n",
    "    clf.fit(X_train,Y_train)\n",
    "    #predition using training data and test data\n",
    "    pred_train = clf.predict(X_train)\n",
    "    pred_test = clf.predict(X_test)\n",
    "    # calling function get_error_rate and returning results for training and test data set\n",
    "    return get_error_rate(pred_train, Y_train), \\\n",
    "           get_error_rate(pred_test, Y_test)"
   ]
  },
  {
   "cell_type": "code",
   "execution_count": 5,
   "metadata": {
    "collapsed": true
   },
   "outputs": [],
   "source": [
    "\"\"\" ADABOOST IMPLEMENTATION =================================================\"\"\"\n",
    "# input training and test data, M:number of trees/modell-runs and model\n",
    "def adaboost_clf(Y_train, X_train, Y_test, X_test, M, clf):\n",
    "    ''' Calculates predictions with adaboost method:\n",
    "    run M-times model pridiction and fits the data in the following \n",
    "    round according to calculated weight. Weights are higher for larger errors \n",
    "    so that the next model run takes them stronger into account. After M runs, \n",
    "    function to calculate error rate is applied.\n",
    "    Returns error rate of train-data and test_data'''\n",
    "    \n",
    "    # number of elements in train and test data set\n",
    "    n_train, n_test = len(X_train), len(X_test)\n",
    "    \n",
    "    # Initialize weights with all the data having the same weight\n",
    "    w = np.ones(n_train) / n_train\n",
    "    # initialize two variables for prediction (train and test) beeing zero with the \n",
    "    # length of train/test data\n",
    "    pred_train, pred_test = [np.zeros(n_train), np.zeros(n_test)]\n",
    "    \n",
    "    for i in range(M):\n",
    "        # Fit a classifier with the specific weights\n",
    "        clf.fit(X_train, Y_train, sample_weight = w)\n",
    "        \n",
    "        # make predictions for training and test data\n",
    "        pred_train_i = clf.predict(X_train)\n",
    "        pred_test_i = clf.predict(X_test)\n",
    "        \n",
    "        # Indicator function: 0 if both are equal, 1 if prediction is wrong\n",
    "        miss = [int(x) for x in (pred_train_i != Y_train)]\n",
    "        # Equivalent with 1/-1 to update weights_> turn every 0 into -1\n",
    "        miss2 = [x if x==1 else -1 for x in miss]\n",
    "        \n",
    "        # Error, in the first run, w is equal for every entry, afterwards...\n",
    "        err_m = np.dot(w,miss) / sum(w)\n",
    "        \n",
    "        # Alpha: how much influence this stump will have in the final classification\n",
    "        alpha_m = 0.5 * np.log( (1 - err_m) / float(err_m))\n",
    "        \n",
    "        # New weights\n",
    "        w = np.multiply(w, np.exp([float(x) * alpha_m for x in miss2]))\n",
    "        # Add to prediction a now column with pred_train_i multiplied with alpha\n",
    "        pred_train = [sum(x) for x in zip(pred_train, \n",
    "                                          [x * alpha_m for x in pred_train_i])]\n",
    "        pred_test = [sum(x) for x in zip(pred_test, \n",
    "                                         [x * alpha_m for x in pred_test_i])]\n",
    "    \n",
    "    # change values to -1 and one depending on their initial value\n",
    "    # < 0 turns to -1, > 0 turns to 1, 0 stays 0\n",
    "    pred_train, pred_test = np.sign(pred_train), np.sign(pred_test)\n",
    "    # Return error rate in train and test set\n",
    "    return get_error_rate(pred_train, Y_train), \\\n",
    "           get_error_rate(pred_test, Y_test)"
   ]
  },
  {
   "cell_type": "code",
   "execution_count": 6,
   "metadata": {},
   "outputs": [],
   "source": [
    "\n",
    "\"\"\" PLOT FUNCTION ===========================================================\"\"\"\n",
    "def plot_error_rate(er_train, er_test):\n",
    "    '''Plots error rate of training and test data:\n",
    "    1. as solid lines in blue\n",
    "    2. a dashed red, horizontal line showing the initial error of test data'''\n",
    "    \n",
    "    #make data frame out of the data and transpose it\n",
    "    df_error = pd.DataFrame([er_train, er_test]).T\n",
    "    #define column names\n",
    "    df_error.columns = ['Training', 'Test']\n",
    "    #initialize plot with data, 2 lines to compare test and train-data error\n",
    "    plot1 = df_error.plot(linewidth = 3, figsize = (8,6),\n",
    "            color = ['lightblue', 'darkblue'], grid = True)\n",
    "    #set labels\n",
    "    plot1.set_xlabel('Number of iterations', fontsize = 12)\n",
    "    plot1.set_xticklabels(range(0,450,50))\n",
    "    plot1.set_ylabel('Error rate', fontsize = 12)\n",
    "    #set title\n",
    "    plot1.set_title('Error rate vs number of iterations', fontsize = 16)\n",
    "    #plot a horizontal, dashed line in red to identify where the initial value of test \n",
    "    #error is located\n",
    "    plt.axhline(y=er_test[0], linewidth=1, color = 'red', ls = 'dashed')\n",
    "\n"
   ]
  },
  {
   "cell_type": "code",
   "execution_count": null,
   "metadata": {},
   "outputs": [],
   "source": []
  },
  {
   "cell_type": "code",
   "execution_count": null,
   "metadata": {},
   "outputs": [],
   "source": []
  },
  {
   "cell_type": "code",
   "execution_count": null,
   "metadata": {},
   "outputs": [],
   "source": []
  },
  {
   "cell_type": "code",
   "execution_count": null,
   "metadata": {},
   "outputs": [],
   "source": []
  },
  {
   "cell_type": "code",
   "execution_count": null,
   "metadata": {},
   "outputs": [],
   "source": []
  },
  {
   "cell_type": "code",
   "execution_count": null,
   "metadata": {},
   "outputs": [],
   "source": []
  }
 ],
 "metadata": {
  "kernelspec": {
   "display_name": "Python 3",
   "language": "python",
   "name": "python3"
  },
  "language_info": {
   "codemirror_mode": {
    "name": "ipython",
    "version": 3
   },
   "file_extension": ".py",
   "mimetype": "text/x-python",
   "name": "python",
   "nbconvert_exporter": "python",
   "pygments_lexer": "ipython3",
   "version": "3.6.10"
  },
  "toc": {
   "base_numbering": 1,
   "nav_menu": {},
   "number_sections": true,
   "sideBar": true,
   "skip_h1_title": false,
   "title_cell": "Table of Contents",
   "title_sidebar": "Contents",
   "toc_cell": false,
   "toc_position": {},
   "toc_section_display": true,
   "toc_window_display": false
  },
  "varInspector": {
   "cols": {
    "lenName": 16,
    "lenType": 16,
    "lenVar": 40
   },
   "kernels_config": {
    "python": {
     "delete_cmd_postfix": "",
     "delete_cmd_prefix": "del ",
     "library": "var_list.py",
     "varRefreshCmd": "print(var_dic_list())"
    },
    "r": {
     "delete_cmd_postfix": ") ",
     "delete_cmd_prefix": "rm(",
     "library": "var_list.r",
     "varRefreshCmd": "cat(var_dic_list()) "
    }
   },
   "types_to_exclude": [
    "module",
    "function",
    "builtin_function_or_method",
    "instance",
    "_Feature"
   ],
   "window_display": false
  }
 },
 "nbformat": 4,
 "nbformat_minor": 2
}
